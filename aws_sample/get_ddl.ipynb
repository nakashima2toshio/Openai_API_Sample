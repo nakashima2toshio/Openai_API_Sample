{
 "cells": [
  {
   "cell_type": "code",
   "id": "initial_id",
   "metadata": {
    "collapsed": true,
    "ExecuteTime": {
     "end_time": "2024-09-18T06:35:24.459918Z",
     "start_time": "2024-09-18T06:35:24.435911Z"
    }
   },
   "source": [
    "input_file = 'car_maintenance_db_dump.sql'\n",
    "output_file = 'abc.sql'\n",
    "\n",
    "# 行数を指定\n",
    "num_lines_to_extract = 70000\n",
    "\n",
    "# ファイルを行ごとに読み込んで、新しいファイルに書き出す\n",
    "with open(input_file, 'r', encoding='utf-8') as infile:\n",
    "    with open(output_file, 'w', encoding='utf-8') as outfile:\n",
    "        for line_number, line in enumerate(infile):\n",
    "            if line_number < num_lines_to_extract:\n",
    "                outfile.write(line)\n",
    "            else:\n",
    "                break\n"
   ],
   "outputs": [],
   "execution_count": 1
  },
  {
   "metadata": {},
   "cell_type": "code",
   "outputs": [],
   "execution_count": null,
   "source": "",
   "id": "b1ba57231d051dbf"
  }
 ],
 "metadata": {
  "kernelspec": {
   "display_name": "Python 3",
   "language": "python",
   "name": "python3"
  },
  "language_info": {
   "codemirror_mode": {
    "name": "ipython",
    "version": 2
   },
   "file_extension": ".py",
   "mimetype": "text/x-python",
   "name": "python",
   "nbconvert_exporter": "python",
   "pygments_lexer": "ipython2",
   "version": "2.7.6"
  }
 },
 "nbformat": 4,
 "nbformat_minor": 5
}
